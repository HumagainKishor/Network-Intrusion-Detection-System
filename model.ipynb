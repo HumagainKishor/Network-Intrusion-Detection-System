{
 "cells": [
  {
   "cell_type": "code",
   "execution_count": 1,
   "id": "ab30e21c",
   "metadata": {},
   "outputs": [],
   "source": [
    "import pandas as pd\n",
    "from sklearn.model_selection import train_test_split\n",
    "from sklearn.preprocessing import LabelEncoder\n",
    "from tensorflow.keras.utils import to_categorical\n",
    "from tensorflow.keras.models import Sequential\n",
    "from tensorflow.keras.layers import GRU, Dense,LSTM\n",
    "import numpy as np\n",
    "from sklearn.ensemble import RandomForestClassifier\n",
    "from sklearn.feature_selection import SelectFromModel\n",
    "import matplotlib.pylab as plt\n",
    "import tensorflow as tf\n",
    "from tensorflow.keras.layers import Reshape\n",
    "from sklearn.utils import resample\n",
    "from sklearn.preprocessing import Normalizer\n",
    "from tensorflow.keras.layers import Dense, Dropout, Activation, Embedding"
   ]
  },
  {
   "cell_type": "code",
   "execution_count": 2,
   "id": "50f0e522",
   "metadata": {},
   "outputs": [],
   "source": [
    "df1=pd.read_csv(\"D:\\\\Downloads\\\\CIC2018\\\\Friday-02-03-2018_TrafficForML_CICFlowMeter.csv\")"
   ]
  },
  {
   "cell_type": "code",
   "execution_count": 3,
   "id": "219bae26",
   "metadata": {},
   "outputs": [],
   "source": [
    "df2=pd.read_csv(\"D:\\\\Downloads\\\\CIC2018\\\\Friday-16-02-2018_TrafficForML_CICFlowMeter.csv\",low_memory=False)"
   ]
  },
  {
   "cell_type": "code",
   "execution_count": 4,
   "id": "3c0e72ff",
   "metadata": {},
   "outputs": [],
   "source": [
    "df3=pd.read_csv(\"D:\\\\Downloads\\\\CIC2018\\\\Friday-23-02-2018_TrafficForML_CICFlowMeter.csv\")"
   ]
  },
  {
   "cell_type": "code",
   "execution_count": 5,
   "id": "73fd77c4",
   "metadata": {},
   "outputs": [],
   "source": [
    "#df4=pd.read_csv(\"D:\\\\Downloads\\\\CIC2018\\\\Thuesday-20-02-2018_TrafficForML_CICFlowMeter.csv\")"
   ]
  },
  {
   "cell_type": "code",
   "execution_count": 6,
   "id": "6c5f03f4",
   "metadata": {},
   "outputs": [],
   "source": [
    "df5=pd.read_csv(\"D:\\\\Downloads\\\\CIC2018\\\\Thursday-01-03-2018_TrafficForML_CICFlowMeter.csv\",low_memory=False)"
   ]
  },
  {
   "cell_type": "code",
   "execution_count": 7,
   "id": "2b6543a3",
   "metadata": {},
   "outputs": [],
   "source": [
    "df6=pd.read_csv(\"D:\\\\Downloads\\\\CIC2018\\\\Thursday-15-02-2018_TrafficForML_CICFlowMeter.csv\")"
   ]
  },
  {
   "cell_type": "code",
   "execution_count": 8,
   "id": "0525a84f",
   "metadata": {},
   "outputs": [],
   "source": [
    "df7=pd.read_csv(\"D:\\\\Downloads\\\\CIC2018\\\\Thursday-22-02-2018_TrafficForML_CICFlowMeter.csv\")"
   ]
  },
  {
   "cell_type": "code",
   "execution_count": 9,
   "id": "9485054b",
   "metadata": {},
   "outputs": [],
   "source": [
    "df8=pd.read_csv(\"D:\\\\Downloads\\\\CIC2018\\\\Wednesday-14-02-2018_TrafficForML_CICFlowMeter.csv\")"
   ]
  },
  {
   "cell_type": "code",
   "execution_count": 10,
   "id": "bef0af86",
   "metadata": {},
   "outputs": [],
   "source": [
    "df9=pd.read_csv(\"D:\\\\Downloads\\\\CIC2018\\\\Wednesday-21-02-2018_TrafficForML_CICFlowMeter.csv\")"
   ]
  },
  {
   "cell_type": "code",
   "execution_count": 11,
   "id": "4d2ae160",
   "metadata": {},
   "outputs": [],
   "source": [
    "df10=pd.read_csv(\"D:\\\\Downloads\\\\CIC2018\\\\Wednesday-28-02-2018_TrafficForML_CICFlowMeter.csv\",low_memory=False)"
   ]
  },
  {
   "cell_type": "code",
   "execution_count": 12,
   "id": "1cd054b4",
   "metadata": {},
   "outputs": [],
   "source": [
    "# Randomly select 20% of data\n",
    "df11 = df1.sample(frac=0.2, random_state=42)\n",
    "df22 = df2.sample(frac=0.2, random_state=42)\n",
    "df33 = df3.sample(frac=0.2, random_state=42)\n",
    "#df44 = df4.sample(frac=0.2, random_state=42)\n",
    "df55 = df5.sample(frac=0.2, random_state=42)\n",
    "df66 = df6.sample(frac=0.2, random_state=42)\n",
    "df77 = df7.sample(frac=0.2, random_state=42)\n",
    "df88 = df8.sample(frac=0.2, random_state=42)\n",
    "df99 = df9.sample(frac=0.2, random_state=42)\n",
    "df100 = df10.sample(frac=0.2, random_state=42)"
   ]
  },
  {
   "cell_type": "code",
   "execution_count": 13,
   "id": "8708b12f",
   "metadata": {},
   "outputs": [],
   "source": [
    "dfs=[df11,df22,df33,df55,df66,df77,df88,df99,df100]"
   ]
  },
  {
   "cell_type": "code",
   "execution_count": 14,
   "id": "49bff1d1",
   "metadata": {},
   "outputs": [],
   "source": [
    "combined_df=pd.concat(dfs,ignore_index=True)"
   ]
  },
  {
   "cell_type": "code",
   "execution_count": 15,
   "id": "1ccb1347",
   "metadata": {
    "scrolled": true
   },
   "outputs": [
    {
     "data": {
      "text/plain": [
       "Benign                      1222143\n",
       "DDOS attack-HOIC             137262\n",
       "DoS attacks-Hulk              92328\n",
       "Bot                           57298\n",
       "FTP-BruteForce                38689\n",
       "SSH-Bruteforce                37629\n",
       "Infilteration                 32395\n",
       "DoS attacks-SlowHTTPTest      27994\n",
       "DoS attacks-GoldenEye          8330\n",
       "DoS attacks-Slowloris          2214\n",
       "DDOS attack-LOIC-UDP            370\n",
       "Brute Force -Web                117\n",
       "Brute Force -XSS                 49\n",
       "SQL Injection                    20\n",
       "Label                            13\n",
       "Name: Label, dtype: int64"
      ]
     },
     "execution_count": 15,
     "metadata": {},
     "output_type": "execute_result"
    }
   ],
   "source": [
    "combined_df['Label'].value_counts()"
   ]
  },
  {
   "cell_type": "code",
   "execution_count": 16,
   "id": "e2ad6271",
   "metadata": {},
   "outputs": [
    {
     "data": {
      "text/plain": [
       "(1656851, 80)"
      ]
     },
     "execution_count": 16,
     "metadata": {},
     "output_type": "execute_result"
    }
   ],
   "source": [
    "combined_df.shape"
   ]
  },
  {
   "cell_type": "code",
   "execution_count": 17,
   "id": "fa560cb6",
   "metadata": {},
   "outputs": [
    {
     "data": {
      "text/html": [
       "<div>\n",
       "<style scoped>\n",
       "    .dataframe tbody tr th:only-of-type {\n",
       "        vertical-align: middle;\n",
       "    }\n",
       "\n",
       "    .dataframe tbody tr th {\n",
       "        vertical-align: top;\n",
       "    }\n",
       "\n",
       "    .dataframe thead th {\n",
       "        text-align: right;\n",
       "    }\n",
       "</style>\n",
       "<table border=\"1\" class=\"dataframe\">\n",
       "  <thead>\n",
       "    <tr style=\"text-align: right;\">\n",
       "      <th></th>\n",
       "      <th>Dst Port</th>\n",
       "      <th>Protocol</th>\n",
       "      <th>Timestamp</th>\n",
       "      <th>Flow Duration</th>\n",
       "      <th>Tot Fwd Pkts</th>\n",
       "      <th>Tot Bwd Pkts</th>\n",
       "      <th>TotLen Fwd Pkts</th>\n",
       "      <th>TotLen Bwd Pkts</th>\n",
       "      <th>Fwd Pkt Len Max</th>\n",
       "      <th>Fwd Pkt Len Min</th>\n",
       "      <th>...</th>\n",
       "      <th>Fwd Seg Size Min</th>\n",
       "      <th>Active Mean</th>\n",
       "      <th>Active Std</th>\n",
       "      <th>Active Max</th>\n",
       "      <th>Active Min</th>\n",
       "      <th>Idle Mean</th>\n",
       "      <th>Idle Std</th>\n",
       "      <th>Idle Max</th>\n",
       "      <th>Idle Min</th>\n",
       "      <th>Label</th>\n",
       "    </tr>\n",
       "  </thead>\n",
       "  <tbody>\n",
       "    <tr>\n",
       "      <th>0</th>\n",
       "      <td>53</td>\n",
       "      <td>17</td>\n",
       "      <td>02/03/2018 08:56:19</td>\n",
       "      <td>227</td>\n",
       "      <td>1</td>\n",
       "      <td>1</td>\n",
       "      <td>37</td>\n",
       "      <td>53.0</td>\n",
       "      <td>37</td>\n",
       "      <td>37</td>\n",
       "      <td>...</td>\n",
       "      <td>8</td>\n",
       "      <td>0.0</td>\n",
       "      <td>0.0</td>\n",
       "      <td>0.0</td>\n",
       "      <td>0.0</td>\n",
       "      <td>0.0</td>\n",
       "      <td>0.0</td>\n",
       "      <td>0.0</td>\n",
       "      <td>0.0</td>\n",
       "      <td>Benign</td>\n",
       "    </tr>\n",
       "    <tr>\n",
       "      <th>1</th>\n",
       "      <td>443</td>\n",
       "      <td>6</td>\n",
       "      <td>02/03/2018 04:07:21</td>\n",
       "      <td>521</td>\n",
       "      <td>3</td>\n",
       "      <td>0</td>\n",
       "      <td>77</td>\n",
       "      <td>0.0</td>\n",
       "      <td>46</td>\n",
       "      <td>0</td>\n",
       "      <td>...</td>\n",
       "      <td>20</td>\n",
       "      <td>0.0</td>\n",
       "      <td>0.0</td>\n",
       "      <td>0.0</td>\n",
       "      <td>0.0</td>\n",
       "      <td>0.0</td>\n",
       "      <td>0.0</td>\n",
       "      <td>0.0</td>\n",
       "      <td>0.0</td>\n",
       "      <td>Benign</td>\n",
       "    </tr>\n",
       "    <tr>\n",
       "      <th>2</th>\n",
       "      <td>50434</td>\n",
       "      <td>6</td>\n",
       "      <td>02/03/2018 10:33:31</td>\n",
       "      <td>27</td>\n",
       "      <td>1</td>\n",
       "      <td>1</td>\n",
       "      <td>0</td>\n",
       "      <td>0.0</td>\n",
       "      <td>0</td>\n",
       "      <td>0</td>\n",
       "      <td>...</td>\n",
       "      <td>20</td>\n",
       "      <td>0.0</td>\n",
       "      <td>0.0</td>\n",
       "      <td>0.0</td>\n",
       "      <td>0.0</td>\n",
       "      <td>0.0</td>\n",
       "      <td>0.0</td>\n",
       "      <td>0.0</td>\n",
       "      <td>0.0</td>\n",
       "      <td>Benign</td>\n",
       "    </tr>\n",
       "    <tr>\n",
       "      <th>3</th>\n",
       "      <td>53</td>\n",
       "      <td>17</td>\n",
       "      <td>02/03/2018 04:58:37</td>\n",
       "      <td>250</td>\n",
       "      <td>1</td>\n",
       "      <td>1</td>\n",
       "      <td>40</td>\n",
       "      <td>56.0</td>\n",
       "      <td>40</td>\n",
       "      <td>40</td>\n",
       "      <td>...</td>\n",
       "      <td>8</td>\n",
       "      <td>0.0</td>\n",
       "      <td>0.0</td>\n",
       "      <td>0.0</td>\n",
       "      <td>0.0</td>\n",
       "      <td>0.0</td>\n",
       "      <td>0.0</td>\n",
       "      <td>0.0</td>\n",
       "      <td>0.0</td>\n",
       "      <td>Benign</td>\n",
       "    </tr>\n",
       "    <tr>\n",
       "      <th>4</th>\n",
       "      <td>53959</td>\n",
       "      <td>6</td>\n",
       "      <td>02/03/2018 11:26:31</td>\n",
       "      <td>86135655</td>\n",
       "      <td>2</td>\n",
       "      <td>0</td>\n",
       "      <td>0</td>\n",
       "      <td>0.0</td>\n",
       "      <td>0</td>\n",
       "      <td>0</td>\n",
       "      <td>...</td>\n",
       "      <td>20</td>\n",
       "      <td>0.0</td>\n",
       "      <td>0.0</td>\n",
       "      <td>0.0</td>\n",
       "      <td>0.0</td>\n",
       "      <td>86100000.0</td>\n",
       "      <td>0.0</td>\n",
       "      <td>86100000.0</td>\n",
       "      <td>86100000.0</td>\n",
       "      <td>Benign</td>\n",
       "    </tr>\n",
       "    <tr>\n",
       "      <th>...</th>\n",
       "      <td>...</td>\n",
       "      <td>...</td>\n",
       "      <td>...</td>\n",
       "      <td>...</td>\n",
       "      <td>...</td>\n",
       "      <td>...</td>\n",
       "      <td>...</td>\n",
       "      <td>...</td>\n",
       "      <td>...</td>\n",
       "      <td>...</td>\n",
       "      <td>...</td>\n",
       "      <td>...</td>\n",
       "      <td>...</td>\n",
       "      <td>...</td>\n",
       "      <td>...</td>\n",
       "      <td>...</td>\n",
       "      <td>...</td>\n",
       "      <td>...</td>\n",
       "      <td>...</td>\n",
       "      <td>...</td>\n",
       "      <td>...</td>\n",
       "    </tr>\n",
       "    <tr>\n",
       "      <th>1656846</th>\n",
       "      <td>445</td>\n",
       "      <td>6</td>\n",
       "      <td>28/02/2018 11:12:26</td>\n",
       "      <td>252242</td>\n",
       "      <td>5</td>\n",
       "      <td>4</td>\n",
       "      <td>286</td>\n",
       "      <td>170</td>\n",
       "      <td>103</td>\n",
       "      <td>0</td>\n",
       "      <td>...</td>\n",
       "      <td>20</td>\n",
       "      <td>0</td>\n",
       "      <td>0</td>\n",
       "      <td>0</td>\n",
       "      <td>0</td>\n",
       "      <td>0</td>\n",
       "      <td>0</td>\n",
       "      <td>0</td>\n",
       "      <td>0</td>\n",
       "      <td>Infilteration</td>\n",
       "    </tr>\n",
       "    <tr>\n",
       "      <th>1656847</th>\n",
       "      <td>80</td>\n",
       "      <td>6</td>\n",
       "      <td>28/02/2018 09:33:52</td>\n",
       "      <td>22</td>\n",
       "      <td>1</td>\n",
       "      <td>1</td>\n",
       "      <td>0</td>\n",
       "      <td>0</td>\n",
       "      <td>0</td>\n",
       "      <td>0</td>\n",
       "      <td>...</td>\n",
       "      <td>20</td>\n",
       "      <td>0</td>\n",
       "      <td>0</td>\n",
       "      <td>0</td>\n",
       "      <td>0</td>\n",
       "      <td>0</td>\n",
       "      <td>0</td>\n",
       "      <td>0</td>\n",
       "      <td>0</td>\n",
       "      <td>Benign</td>\n",
       "    </tr>\n",
       "    <tr>\n",
       "      <th>1656848</th>\n",
       "      <td>135</td>\n",
       "      <td>6</td>\n",
       "      <td>28/02/2018 02:29:50</td>\n",
       "      <td>2943821</td>\n",
       "      <td>4</td>\n",
       "      <td>4</td>\n",
       "      <td>336</td>\n",
       "      <td>24</td>\n",
       "      <td>168</td>\n",
       "      <td>0</td>\n",
       "      <td>...</td>\n",
       "      <td>20</td>\n",
       "      <td>0</td>\n",
       "      <td>0</td>\n",
       "      <td>0</td>\n",
       "      <td>0</td>\n",
       "      <td>0</td>\n",
       "      <td>0</td>\n",
       "      <td>0</td>\n",
       "      <td>0</td>\n",
       "      <td>Benign</td>\n",
       "    </tr>\n",
       "    <tr>\n",
       "      <th>1656849</th>\n",
       "      <td>53</td>\n",
       "      <td>17</td>\n",
       "      <td>28/02/2018 09:24:02</td>\n",
       "      <td>210</td>\n",
       "      <td>1</td>\n",
       "      <td>1</td>\n",
       "      <td>50</td>\n",
       "      <td>178</td>\n",
       "      <td>50</td>\n",
       "      <td>50</td>\n",
       "      <td>...</td>\n",
       "      <td>8</td>\n",
       "      <td>0</td>\n",
       "      <td>0</td>\n",
       "      <td>0</td>\n",
       "      <td>0</td>\n",
       "      <td>0</td>\n",
       "      <td>0</td>\n",
       "      <td>0</td>\n",
       "      <td>0</td>\n",
       "      <td>Benign</td>\n",
       "    </tr>\n",
       "    <tr>\n",
       "      <th>1656850</th>\n",
       "      <td>53</td>\n",
       "      <td>17</td>\n",
       "      <td>28/02/2018 04:22:55</td>\n",
       "      <td>905</td>\n",
       "      <td>1</td>\n",
       "      <td>1</td>\n",
       "      <td>30</td>\n",
       "      <td>132</td>\n",
       "      <td>30</td>\n",
       "      <td>30</td>\n",
       "      <td>...</td>\n",
       "      <td>8</td>\n",
       "      <td>0</td>\n",
       "      <td>0</td>\n",
       "      <td>0</td>\n",
       "      <td>0</td>\n",
       "      <td>0</td>\n",
       "      <td>0</td>\n",
       "      <td>0</td>\n",
       "      <td>0</td>\n",
       "      <td>Benign</td>\n",
       "    </tr>\n",
       "  </tbody>\n",
       "</table>\n",
       "<p>1652215 rows × 80 columns</p>\n",
       "</div>"
      ],
      "text/plain": [
       "        Dst Port Protocol            Timestamp Flow Duration Tot Fwd Pkts  \\\n",
       "0             53       17  02/03/2018 08:56:19           227            1   \n",
       "1            443        6  02/03/2018 04:07:21           521            3   \n",
       "2          50434        6  02/03/2018 10:33:31            27            1   \n",
       "3             53       17  02/03/2018 04:58:37           250            1   \n",
       "4          53959        6  02/03/2018 11:26:31      86135655            2   \n",
       "...          ...      ...                  ...           ...          ...   \n",
       "1656846      445        6  28/02/2018 11:12:26        252242            5   \n",
       "1656847       80        6  28/02/2018 09:33:52            22            1   \n",
       "1656848      135        6  28/02/2018 02:29:50       2943821            4   \n",
       "1656849       53       17  28/02/2018 09:24:02           210            1   \n",
       "1656850       53       17  28/02/2018 04:22:55           905            1   \n",
       "\n",
       "        Tot Bwd Pkts TotLen Fwd Pkts TotLen Bwd Pkts Fwd Pkt Len Max  \\\n",
       "0                  1              37            53.0              37   \n",
       "1                  0              77             0.0              46   \n",
       "2                  1               0             0.0               0   \n",
       "3                  1              40            56.0              40   \n",
       "4                  0               0             0.0               0   \n",
       "...              ...             ...             ...             ...   \n",
       "1656846            4             286             170             103   \n",
       "1656847            1               0               0               0   \n",
       "1656848            4             336              24             168   \n",
       "1656849            1              50             178              50   \n",
       "1656850            1              30             132              30   \n",
       "\n",
       "        Fwd Pkt Len Min  ... Fwd Seg Size Min Active Mean Active Std  \\\n",
       "0                    37  ...                8         0.0        0.0   \n",
       "1                     0  ...               20         0.0        0.0   \n",
       "2                     0  ...               20         0.0        0.0   \n",
       "3                    40  ...                8         0.0        0.0   \n",
       "4                     0  ...               20         0.0        0.0   \n",
       "...                 ...  ...              ...         ...        ...   \n",
       "1656846               0  ...               20           0          0   \n",
       "1656847               0  ...               20           0          0   \n",
       "1656848               0  ...               20           0          0   \n",
       "1656849              50  ...                8           0          0   \n",
       "1656850              30  ...                8           0          0   \n",
       "\n",
       "        Active Max Active Min   Idle Mean Idle Std    Idle Max    Idle Min  \\\n",
       "0              0.0        0.0         0.0      0.0         0.0         0.0   \n",
       "1              0.0        0.0         0.0      0.0         0.0         0.0   \n",
       "2              0.0        0.0         0.0      0.0         0.0         0.0   \n",
       "3              0.0        0.0         0.0      0.0         0.0         0.0   \n",
       "4              0.0        0.0  86100000.0      0.0  86100000.0  86100000.0   \n",
       "...            ...        ...         ...      ...         ...         ...   \n",
       "1656846          0          0           0        0           0           0   \n",
       "1656847          0          0           0        0           0           0   \n",
       "1656848          0          0           0        0           0           0   \n",
       "1656849          0          0           0        0           0           0   \n",
       "1656850          0          0           0        0           0           0   \n",
       "\n",
       "                 Label  \n",
       "0               Benign  \n",
       "1               Benign  \n",
       "2               Benign  \n",
       "3               Benign  \n",
       "4               Benign  \n",
       "...                ...  \n",
       "1656846  Infilteration  \n",
       "1656847         Benign  \n",
       "1656848         Benign  \n",
       "1656849         Benign  \n",
       "1656850         Benign  \n",
       "\n",
       "[1652215 rows x 80 columns]"
      ]
     },
     "execution_count": 17,
     "metadata": {},
     "output_type": "execute_result"
    }
   ],
   "source": [
    "combined_df.dropna()"
   ]
  },
  {
   "cell_type": "code",
   "execution_count": 18,
   "id": "203f37d8",
   "metadata": {},
   "outputs": [],
   "source": [
    "combined_df=combined_df.drop(columns='Timestamp',axis=1)"
   ]
  },
  {
   "cell_type": "code",
   "execution_count": 19,
   "id": "2a44da40",
   "metadata": {},
   "outputs": [],
   "source": [
    "#converting into numerical and creating different classes of target variable \n",
    "#label_encoder=LabelEncoder()\n",
    "#combined_df['Label']= label_encoder.fit_transform(combined_df['Label'])\n",
    "#combined_df['Label'].unique()"
   ]
  },
  {
   "cell_type": "code",
   "execution_count": 20,
   "id": "6faf595d",
   "metadata": {},
   "outputs": [],
   "source": [
    "# Create an instance of LabelEncoder\n",
    "label_encoder = LabelEncoder()\n",
    "\n",
    "# Encode the 'Label' column in the combined_df dataframe\n",
    "combined_df['Label'] = label_encoder.fit_transform(combined_df['Label'])\n",
    "\n",
    "# Replace the encoded values for all classes other than 'Benign' with 1\n",
    "combined_df['Label'] = combined_df['Label'].apply(lambda x: 1 if x != 0 else 0)\n",
    "\n",
    "# Print the unique values in the 'Label' column after encoding\n",
    "#print(combined_df['Label'].unique())\n"
   ]
  },
  {
   "cell_type": "code",
   "execution_count": 21,
   "id": "e672a964",
   "metadata": {
    "scrolled": true
   },
   "outputs": [
    {
     "data": {
      "text/plain": [
       "0    1222143\n",
       "1     434708\n",
       "Name: Label, dtype: int64"
      ]
     },
     "execution_count": 21,
     "metadata": {},
     "output_type": "execute_result"
    }
   ],
   "source": [
    "combined_df['Label'].value_counts()"
   ]
  },
  {
   "cell_type": "code",
   "execution_count": 22,
   "id": "e2508582",
   "metadata": {},
   "outputs": [],
   "source": [
    "for col in combined_df.columns[:-1]:\n",
    "    combined_df[col] = pd.to_numeric(combined_df[col], errors='coerce')"
   ]
  },
  {
   "cell_type": "code",
   "execution_count": 23,
   "id": "e8673850",
   "metadata": {},
   "outputs": [],
   "source": [
    "#Function to remove infinity,nan and other values\n",
    "def clean_dataset(df):\n",
    "    assert isinstance(df, pd.DataFrame), \"df needs to be a pd.DataFrame\"\n",
    "    df.dropna(inplace=True)\n",
    "    indices_to_keep = ~df.isin([np.nan, np.inf, -np.inf]).any(1)\n",
    "    return df[indices_to_keep].astype(np.float64)"
   ]
  },
  {
   "cell_type": "code",
   "execution_count": 24,
   "id": "a61d0006",
   "metadata": {},
   "outputs": [],
   "source": [
    "combined_df=clean_dataset(combined_df)"
   ]
  },
  {
   "cell_type": "code",
   "execution_count": 25,
   "id": "b2de47b9",
   "metadata": {},
   "outputs": [],
   "source": [
    "X=combined_df.drop(columns='Label',axis=1)\n",
    "Y=combined_df['Label']"
   ]
  },
  {
   "cell_type": "code",
   "execution_count": 26,
   "id": "3d492607",
   "metadata": {},
   "outputs": [],
   "source": [
    "xtrain,xtest,ytrain,ytest=train_test_split(X,Y,test_size=0.2,random_state=2)"
   ]
  },
  {
   "cell_type": "code",
   "execution_count": 27,
   "id": "3a502cb6",
   "metadata": {},
   "outputs": [],
   "source": [
    "rfc=RandomForestClassifier(random_state=0)"
   ]
  },
  {
   "cell_type": "code",
   "execution_count": 28,
   "id": "14acc5ec",
   "metadata": {},
   "outputs": [
    {
     "data": {
      "text/plain": [
       "RandomForestClassifier(random_state=0)"
      ]
     },
     "execution_count": 28,
     "metadata": {},
     "output_type": "execute_result"
    }
   ],
   "source": [
    "rfc.fit(X,Y)"
   ]
  },
  {
   "cell_type": "code",
   "execution_count": 29,
   "id": "fef55bd4",
   "metadata": {},
   "outputs": [],
   "source": [
    "imp=rfc.feature_importances_"
   ]
  },
  {
   "cell_type": "code",
   "execution_count": 30,
   "id": "ae511e83",
   "metadata": {},
   "outputs": [
    {
     "name": "stdout",
     "output_type": "stream",
     "text": [
      "Mean Importance is : 0.012820512820512818\n"
     ]
    }
   ],
   "source": [
    "mean_importance=imp.mean()#Mean of importance feature \n",
    "print(\"Mean Importance is :\",mean_importance)"
   ]
  },
  {
   "cell_type": "code",
   "execution_count": 31,
   "id": "b7a866a2",
   "metadata": {},
   "outputs": [],
   "source": [
    "feature_importance=list(zip(X.columns,imp))#Creating tuple with features and its important"
   ]
  },
  {
   "cell_type": "code",
   "execution_count": 32,
   "id": "65585777",
   "metadata": {},
   "outputs": [],
   "source": [
    "feature_importance.sort(key=lambda x: x[1],reverse=True)#Sorting in decending order"
   ]
  },
  {
   "cell_type": "code",
   "execution_count": 33,
   "id": "c5109dd3",
   "metadata": {},
   "outputs": [],
   "source": [
    "selected_features = [feature for feature, importance in feature_importance if importance > mean_importance]#Selecting only features greater than mean_importance"
   ]
  },
  {
   "cell_type": "code",
   "execution_count": 34,
   "id": "38fe5ad0",
   "metadata": {},
   "outputs": [],
   "source": [
    "selected_importances = [imp[X.columns.get_loc(feature)] for feature in selected_features]#list contains the importance of seleced_features only"
   ]
  },
  {
   "cell_type": "code",
   "execution_count": 35,
   "id": "063a9283",
   "metadata": {},
   "outputs": [
    {
     "data": {
      "image/png": "[encoded data removed]",
      "text/plain": [
       "<Figure size 720x432 with 1 Axes>"
      ]
     },
     "metadata": {
      "needs_background": "light"
     },
     "output_type": "display_data"
    }
   ],
   "source": [
    "#plotting the graph\n",
    "fig,axs=plt.subplots(figsize=(10,6))\n",
    "axs.bar(selected_features,selected_importances,color='b')\n",
    "plt.xticks(rotation=90,fontsize=10)\n",
    "plt.xlabel(\"Features\",fontsize=12)\n",
    "plt.ylabel(\"Importances\",fontsize=12)\n",
    "plt.title(\"Selected features and their importances\")\n",
    "#note = \"This plot shows the feature importances\\nof the selected features.\"\n",
    "#plt.text(0.5, 1.05, note, horizontalalignment='center', fontsize=12, transform=ax.transAxes)\n",
    "#to save figure as img and pdf\n",
    "DPI=300\n",
    "#plt.savefig(\"feature_importnaces.png\",dpi=DPI,bbox_inches='tight')\n",
    "plt.savefig(\"feature_importances.pdf\",dpi=300,bbox_inches='tight')\n",
    "plt.show()"
   ]
  },
  {
   "cell_type": "code",
   "execution_count": 36,
   "id": "f76a07f7",
   "metadata": {},
   "outputs": [],
   "source": [
    "#create a new df with only selected_features\n",
    "newX=combined_df[selected_features]"
   ]
  },
  {
   "cell_type": "code",
   "execution_count": 37,
   "id": "bdf8203a",
   "metadata": {},
   "outputs": [],
   "source": [
    "#split the newx into train and test split\n",
    "X_train,X_test,Y_train,Y_test=train_test_split(newX,Y,test_size=0.2,random_state=2)"
   ]
  },
  {
   "cell_type": "code",
   "execution_count": 38,
   "id": "ba42b5bf",
   "metadata": {},
   "outputs": [],
   "source": [
    "#Normalizing the X_train and transform back to X_train\n",
    "scaler=Normalizer().fit(X_train)\n",
    "X_train=scaler.transform(X_train)\n",
    "np.set_printoptions(precision=3)"
   ]
  },
  {
   "cell_type": "code",
   "execution_count": 39,
   "id": "f16f59bd",
   "metadata": {},
   "outputs": [],
   "source": [
    "#Normalizing the X_test and transform back into X_test\n",
    "scaler=Normalizer().fit(X_test)\n",
    "X_test=scaler.transform(X_test)\n",
    "np.set_printoptions(precision=3)"
   ]
  },
  {
   "cell_type": "code",
   "execution_count": 40,
   "id": "1e2e437d",
   "metadata": {},
   "outputs": [],
   "source": [
    "#one-hot encoded matrix: (label as [1,0,1,0]) into [[0,1],[1,0],[0,1],[1,0]]\n",
    "y_train=to_categorical(Y_train,num_classes=2)\n",
    "y_test=to_categorical(Y_test,num_classes=2)"
   ]
  },
  {
   "cell_type": "code",
   "execution_count": 41,
   "id": "9cf97236",
   "metadata": {},
   "outputs": [],
   "source": [
    "#Converting input data into 3D tensor with time_step=1, RNN takes 3D tensor as input\n",
    "x_train=X_train.reshape(len(X_train), X_train.shape[1], 1)\n",
    "x_test=X_test.reshape(len(X_test), X_test.shape[1], 1)"
   ]
  },
  {
   "cell_type": "code",
   "execution_count": 42,
   "id": "ba26a180",
   "metadata": {},
   "outputs": [],
   "source": [
    "#same as above but time_step in second position : which can be more convenient when working with RNNs that have multiple layers\n",
    "x_train = np.reshape(x_train, (x_train.shape[0], 1, x_train.shape[1]))\n",
    "x_test = np.reshape(x_test, (x_test.shape[0], 1, x_test.shape[1]))"
   ]
  },
  {
   "cell_type": "code",
   "execution_count": 43,
   "id": "7146771b",
   "metadata": {},
   "outputs": [],
   "source": [
    "#the number of training examples that are processed in a single iteration of the algorithm\n",
    "batch_size=32"
   ]
  },
  {
   "cell_type": "code",
   "execution_count": 44,
   "id": "92d76737",
   "metadata": {},
   "outputs": [],
   "source": [
    "model=Sequential()#initializing sequential model\n",
    "model.add(GRU(60,input_dim=28,return_sequences=True))#Adds GRU layer of 60 units(layers i.e processing nodes or neurons) and return sequence rather than single value\n",
    "model.add(Dropout(0.1))#dropout prevents overfitting,A dropout rate of 0.1 means that 10% of the neurons in the layer will be randomly dropped out during each training iteration.\n",
    "model.add(Dense(2,activation='sigmoid'))# it adds dense layer to model which is used to transform the output of the previous layers into a prediction.\n",
    "model.add(GRU(196,return_sequences=False))#Adds GRU layer of 196 units and it return single value\n",
    "model.add(Dropout(0.1))#Drops 10% of neurons randomly \n",
    "model.add(Dense(2,activation='sigmoid'))#gives the final output "
   ]
  },
  {
   "cell_type": "code",
   "execution_count": 45,
   "id": "ddcab6fa",
   "metadata": {},
   "outputs": [],
   "source": [
    "#using binary_crossentropy loss function which is common in binary classification problems\n",
    "#using adam as optimizer which adapts learning rate during training  and updating models weight\n",
    "#using accuracy metrice for evaluating the performance of model\n",
    "model.compile(loss='binary_crossentropy',optimizer='adam',metrics=['accuracy'])"
   ]
  },
  {
   "cell_type": "code",
   "execution_count": 46,
   "id": "043255ce",
   "metadata": {},
   "outputs": [
    {
     "name": "stdout",
     "output_type": "stream",
     "text": [
      "Epoch 1/10\n",
      "41237/41237 [==============================] - 382s 9ms/step - loss: 0.2043 - accuracy: 0.9399 - val_loss: 0.1669 - val_accuracy: 0.9571\n",
      "Epoch 2/10\n",
      "41237/41237 [==============================] - 405s 10ms/step - loss: 0.1572 - accuracy: 0.9588 - val_loss: 0.1362 - val_accuracy: 0.9641\n",
      "Epoch 3/10\n",
      "41237/41237 [==============================] - 410s 10ms/step - loss: 0.1342 - accuracy: 0.9657 - val_loss: 0.1198 - val_accuracy: 0.9695\n",
      "Epoch 4/10\n",
      "41237/41237 [==============================] - 414s 10ms/step - loss: 0.1239 - accuracy: 0.9683 - val_loss: 0.1159 - val_accuracy: 0.9705\n",
      "Epoch 5/10\n",
      "41237/41237 [==============================] - 406s 10ms/step - loss: 0.1200 - accuracy: 0.9692 - val_loss: 0.1133 - val_accuracy: 0.9707\n",
      "Epoch 6/10\n",
      "41237/41237 [==============================] - 407s 10ms/step - loss: 0.1153 - accuracy: 0.9702 - val_loss: 0.1076 - val_accuracy: 0.9722\n",
      "Epoch 7/10\n",
      "41237/41237 [==============================] - 413s 10ms/step - loss: 0.1135 - accuracy: 0.9707 - val_loss: 0.1077 - val_accuracy: 0.9727\n",
      "Epoch 8/10\n",
      "41237/41237 [==============================] - 415s 10ms/step - loss: 0.1120 - accuracy: 0.9711 - val_loss: 0.1095 - val_accuracy: 0.9717\n",
      "Epoch 9/10\n",
      "41237/41237 [==============================] - 415s 10ms/step - loss: 0.1110 - accuracy: 0.9714 - val_loss: 0.1081 - val_accuracy: 0.9719\n",
      "Epoch 10/10\n",
      "41237/41237 [==============================] - 422s 10ms/step - loss: 0.1100 - accuracy: 0.9718 - val_loss: 0.1038 - val_accuracy: 0.9733\n"
     ]
    }
   ],
   "source": [
    "#train model with epoch 10\n",
    "history=model.fit(x_train,y_train,batch_size=batch_size,epochs=10,validation_data=[x_test,y_test])"
   ]
  },
  {
   "cell_type": "code",
   "execution_count": 47,
   "id": "efe7b993",
   "metadata": {},
   "outputs": [
    {
     "data": {
      "image/png": "[encoded data removed]",
      "text/plain": [
       "<Figure size 432x288 with 1 Axes>"
      ]
     },
     "metadata": {
      "needs_background": "light"
     },
     "output_type": "display_data"
    }
   ],
   "source": [
    "# Plot the training and validation loss over the course of training\n",
    "plt.plot(history.history['loss'])\n",
    "plt.plot(history.history['val_loss'])\n",
    "plt.title('Model loss')\n",
    "plt.ylabel('Loss')\n",
    "plt.xlabel('Epoch')\n",
    "plt.legend(['Training loss', 'Validation loss'], loc='upper right')\n",
    "#saving the figure\n",
    "DPI=300\n",
    "plt.savefig(\"Model loss.pdf\",dpi=DPI,bbox_inches='tight')\n",
    "plt.show()"
   ]
  },
  {
   "cell_type": "code",
   "execution_count": 48,
   "id": "7a104376",
   "metadata": {},
   "outputs": [],
   "source": [
    "#save model\n",
    "#tf.keras.models.save_model(history,'NIDS_Model.h5')\n",
    "tf.keras.models.save_model(model,\"NIDS_model.h5\")"
   ]
  },
  {
   "cell_type": "code",
   "execution_count": 49,
   "id": "d6273687",
   "metadata": {},
   "outputs": [],
   "source": [
    "#load the model\n",
    "from keras.models import load_model\n",
    "loaded_model=load_model(\"NIDS_model.h5\")"
   ]
  },
  {
   "cell_type": "code",
   "execution_count": 50,
   "id": "19057178",
   "metadata": {},
   "outputs": [],
   "source": [
    "#Evaluating accuracy score\n",
    "from sklearn.metrics import accuracy_score"
   ]
  },
  {
   "cell_type": "code",
   "execution_count": 51,
   "id": "b7247b04",
   "metadata": {},
   "outputs": [
    {
     "name": "stdout",
     "output_type": "stream",
     "text": [
      "10310/10310 [==============================] - 38s 4ms/step\n"
     ]
    }
   ],
   "source": [
    "#prediction on test dataset\n",
    "y_pred=loaded_model.predict(x_test)"
   ]
  },
  {
   "cell_type": "code",
   "execution_count": 52,
   "id": "1565a7d4",
   "metadata": {},
   "outputs": [],
   "source": [
    "#np.argmax() can be used to convert the probabilities into class predictions\n",
    "y_pred = np.argmax(y_pred,axis=1)"
   ]
  },
  {
   "cell_type": "code",
   "execution_count": 53,
   "id": "a75cb33d",
   "metadata": {},
   "outputs": [],
   "source": [
    "#Converting y_test into class prediction\n",
    "y_test_class=np.argmax(y_test,axis=1)"
   ]
  },
  {
   "cell_type": "code",
   "execution_count": 54,
   "id": "c3d66f2a",
   "metadata": {},
   "outputs": [],
   "source": [
    "#importing library which are required for evaluation metrics\n",
    "from sklearn.metrics import accuracy_score,confusion_matrix,precision_score,recall_score,f1_score"
   ]
  },
  {
   "cell_type": "code",
   "execution_count": 55,
   "id": "7c762ee6",
   "metadata": {},
   "outputs": [],
   "source": [
    "accuracy=accuracy_score(y_test_class,y_pred)\n",
    "precision=precision_score(y_test_class,y_pred)\n",
    "recall=recall_score(y_test_class,y_pred)\n",
    "f1=f1_score(y_test_class,y_pred)"
   ]
  },
  {
   "cell_type": "code",
   "execution_count": 56,
   "id": "671549cc",
   "metadata": {},
   "outputs": [],
   "source": [
    "#calculating confusion metrics\n",
    "cm=confusion_matrix(y_test_class,y_pred)"
   ]
  },
  {
   "cell_type": "code",
   "execution_count": 57,
   "id": "669f26d1",
   "metadata": {},
   "outputs": [
    {
     "name": "stdout",
     "output_type": "stream",
     "text": [
      "True positive (TP): 78713\n",
      "True negative (TN): 242385\n",
      "False positive (FP): 523\n",
      "False negative (FN): 8275\n"
     ]
    }
   ],
   "source": [
    "tp = cm[1, 1]\n",
    "tn = cm[0, 0]\n",
    "fp = cm[0, 1]\n",
    "fn = cm[1, 0]\n",
    "\n",
    "# Print the results \n",
    "print(f\"True positive (TP): {tp}\")\n",
    "print(f\"True negative (TN): {tn}\")\n",
    "print(f\"False positive (FP): {fp}\")\n",
    "print(f\"False negative (FN): {fn}\")"
   ]
  },
  {
   "cell_type": "code",
   "execution_count": 58,
   "id": "51d6c59a",
   "metadata": {},
   "outputs": [],
   "source": [
    "#In term of rate \n",
    "tpr=tp/(tp+fn)#recall\n",
    "tnr=tn/(tn+fp)\n",
    "fpr=fp/(fp+tn)#False alarm rate\n",
    "fnr=fn/(tp+tn)"
   ]
  },
  {
   "cell_type": "code",
   "execution_count": 59,
   "id": "a7b14cff",
   "metadata": {},
   "outputs": [
    {
     "name": "stdout",
     "output_type": "stream",
     "text": [
      "True positive rate is: 0.9048719363590381\n",
      "True Negative rate is: 0.9978469214682102\n",
      "False positive rate is: 0.0021530785317898132\n",
      "False positive rate is: 0.025770948433188622\n"
     ]
    }
   ],
   "source": [
    "print(\"True positive rate is:\",tpr)\n",
    "print(\"True Negative rate is:\",tnr)\n",
    "print(\"False positive rate is:\",fpr)\n",
    "print(\"False positive rate is:\",fnr)\n"
   ]
  },
  {
   "cell_type": "code",
   "execution_count": 60,
   "id": "1eb98e41",
   "metadata": {},
   "outputs": [
    {
     "data": {
      "image/png": "[encoded data removed]",
      "text/plain": [
       "<Figure size 432x288 with 2 Axes>"
      ]
     },
     "metadata": {
      "needs_background": "light"
     },
     "output_type": "display_data"
    }
   ],
   "source": [
    "# Define the class labels\n",
    "class_labels = ['Normal', 'Abnormal']\n",
    "\n",
    "# Plot the confusion matrix as a figure\n",
    "fig, ax = plt.subplots()\n",
    "im = ax.imshow(cm, cmap='Blues')\n",
    "\n",
    "# Add colorbar\n",
    "cbar = ax.figure.colorbar(im, ax=ax)\n",
    "\n",
    "# Show all ticks\n",
    "ax.set_xticks(np.arange(len(class_labels)))\n",
    "ax.set_yticks(np.arange(len(class_labels)))\n",
    "\n",
    "# Label the ticks\n",
    "ax.set_xticklabels(class_labels)\n",
    "ax.set_yticklabels(class_labels)\n",
    "\n",
    "# Rotate the tick labels and set their alignment\n",
    "plt.setp(ax.get_xticklabels(), rotation=45, ha=\"right\", rotation_mode=\"anchor\")\n",
    "\n",
    "# Loop over data dimensions and create text annotations\n",
    "for i in range(len(class_labels)):\n",
    "    for j in range(len(class_labels)):\n",
    "        text = ax.text(j, i, cm[i, j], ha=\"center\", va=\"center\", color=\"black\")\n",
    "\n",
    "# Set title and axis labels\n",
    "ax.set_title(\"Confusion Matrix\")\n",
    "ax.set_xlabel(\"Predicted Label\")\n",
    "ax.set_ylabel(\"True Label\")\n",
    "\n",
    "# Save the figure\n",
    "plt.savefig('confusion_matrix.pdf',dpi=300,bbox_inches='tight')"
   ]
  },
  {
   "cell_type": "code",
   "execution_count": 61,
   "id": "0d65503c",
   "metadata": {},
   "outputs": [
    {
     "data": {
      "text/plain": [
       "['Dst Port',\n",
       " 'Init Fwd Win Byts',\n",
       " 'Fwd Seg Size Min',\n",
       " 'Flow IAT Min',\n",
       " 'Fwd IAT Mean',\n",
       " 'Flow IAT Max',\n",
       " 'Flow Pkts/s',\n",
       " 'Fwd IAT Tot',\n",
       " 'Fwd Pkts/s',\n",
       " 'Pkt Size Avg',\n",
       " 'Flow IAT Mean',\n",
       " 'Fwd IAT Min',\n",
       " 'Fwd IAT Max',\n",
       " 'Fwd Pkt Len Max',\n",
       " 'Fwd Header Len',\n",
       " 'TotLen Fwd Pkts',\n",
       " 'Pkt Len Max',\n",
       " 'Fwd Pkt Len Mean',\n",
       " 'Bwd Seg Size Avg',\n",
       " 'Subflow Fwd Byts',\n",
       " 'Pkt Len Mean',\n",
       " 'Bwd Pkts/s',\n",
       " 'Flow Duration',\n",
       " 'Flow Byts/s',\n",
       " 'Fwd Seg Size Avg',\n",
       " 'Bwd Pkt Len Mean',\n",
       " 'Init Bwd Win Byts',\n",
       " 'Subflow Bwd Pkts']"
      ]
     },
     "execution_count": 61,
     "metadata": {},
     "output_type": "execute_result"
    }
   ],
   "source": [
    "selected_features"
   ]
  },
  {
   "cell_type": "code",
   "execution_count": 64,
   "id": "2115a4b2",
   "metadata": {},
   "outputs": [
    {
     "data": {
      "image/png": "[encoded data removed]",
      "text/plain": [
       "<Figure size 432x288 with 1 Axes>"
      ]
     },
     "metadata": {
      "needs_background": "light"
     },
     "output_type": "display_data"
    }
   ],
   "source": [
    "# Plot the training and validation accuracy over the course of training\n",
    "plt.plot(history.history['accuracy'])\n",
    "plt.plot(history.history['val_accuracy'])\n",
    "plt.title('Model accuracy')\n",
    "plt.ylabel('Accuracy')\n",
    "plt.xlabel('Epoch')\n",
    "plt.legend(['Training Accuracy', 'Validation Accuracy'], loc='lower right')\n",
    "#saving the figure\n",
    "DPI=300\n",
    "plt.savefig(\"Model Accuracy.pdf\",dpi=DPI,bbox_inches='tight')\n",
    "plt.show()"
   ]
  },
  {
   "cell_type": "code",
   "execution_count": null,
   "id": "1d72eb27",
   "metadata": {},
   "outputs": [],
   "source": []
  }
 ],
 "metadata": {
  "kernelspec": {
   "display_name": "Python 3 (ipykernel)",
   "language": "python",
   "name": "python3"
  },
  "language_info": {
   "codemirror_mode": {
    "name": "ipython",
    "version": 3
   },
   "file_extension": ".py",
   "mimetype": "text/x-python",
   "name": "python",
   "nbconvert_exporter": "python",
   "pygments_lexer": "ipython3",
   "version": "3.9.12"
  }
 },
 "nbformat": 4,
 "nbformat_minor": 5
}
